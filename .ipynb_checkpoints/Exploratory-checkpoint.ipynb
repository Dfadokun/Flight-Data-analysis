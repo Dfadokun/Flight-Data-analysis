{
 "cells": [
  {
   "cell_type": "markdown",
   "metadata": {},
   "source": [
    "## Introduction\n",
    "\n",
    "The Aviation industry is one of the largest and most active industries moving millions of people around thw world. Efficiency and safety are priority in the industry and anything less is not acceptable.\n",
    "\n",
    "The dataset under investigation is the flight data which contain key details for domestic flights in USA for 2019. The data was obtained from the Bureau of Transportation Statistics which contains large volume of information on various transportation methods. The dataset consist of about 48 columns which include tail number, carrier code, destination and origin airport, arrival and departure delay, causes of delay e.t.c\n",
    "\n",
    "Using the dataset we will try to review key infromation regarding the performance of the aviation industry in 2019.\n"
   ]
  },
  {
   "cell_type": "markdown",
   "metadata": {},
   "source": [
    "## Import all necessary packages"
   ]
  },
  {
   "cell_type": "code",
   "execution_count": 1,
   "metadata": {},
   "outputs": [],
   "source": [
    "import pandas as pd\n",
    "import numpy as np\n",
    "from numpy import nan\n",
    "import glob\n",
    "import matplotlib.pyplot as plt\n",
    "import seaborn as sns\n",
    "sns.set_style('darkgrid')\n",
    "plt.style.use('seaborn')\n",
    "%matplotlib inline"
   ]
  },
  {
   "cell_type": "markdown",
   "metadata": {},
   "source": [
    "## Data Gathering\n"
   ]
  },
  {
   "cell_type": "markdown",
   "metadata": {},
   "source": [
    "\n",
    "The first step was to download the dataset month by month for 2019. After downloading the monthly data was merged through the following steps; glob package was used to iterate through the monthly data, pandas read function used to read the monthly data and the pandas concat fnction was used to merger into a large data set (air_time.csv).  \n",
    "\n",
    "\n",
    "Note: Due to the data size and internet connectivity only the dataset for 2019 could be downloaded."
   ]
  },
  {
   "cell_type": "markdown",
   "metadata": {},
   "source": [
    "####### Read monthly CSV files and merge all into a singe csv file (air_time) \n",
    "path = r'C:\\Users\\Dfadokun\\Downloads\\New folder\\project5' \n",
    "data_files = glob.glob(path + \"/*.csv\")\n",
    "\n",
    "data = []\n",
    "\n",
    "for filename in data_files:\n",
    "    df = pd.read_csv(filename, index_col=None, header=0 , )\n",
    "    data.append(df)\n",
    "\n",
    "air_time = pd.concat(data, axis=0)"
   ]
  },
  {
   "cell_type": "markdown",
   "metadata": {},
   "source": [
    "####### Select some specific column initially to reduce data size\n",
    "\n",
    "air_time = air_time.loc[:,['FL_DATE','OP_UNIQUE_CARRIER', 'TAIL_NUM', 'OP_CARRIER_FL_NUM', 'ORIGIN', 'ORIGIN_CITY_NAME','ORIGIN_STATE_NM','DEST','DEST_CITY_NAME', 'DEST_STATE_NM', 'CRS_DEP_TIME','DEP_TIME', 'DEP_DELAY', 'DEP_DELAY_NEW', 'TAXI_OUT', 'WHEELS_OFF', 'WHEELS_ON', 'TAXI_IN','CRS_ARR_TIME', 'ARR_TIME',\n",
    "       'ARR_DELAY', 'ARR_DELAY_NEW','CANCELLED','CANCELLATION_CODE', 'DIVERTED', 'CRS_ELAPSED_TIME','ACTUAL_ELAPSED_TIME', 'AIR_TIME', 'DISTANCE','CARRIER_DELAY', 'WEATHER_DELAY', 'NAS_DELAY', 'SECURITY_DELAY',\n",
    "       'LATE_AIRCRAFT_DELAY']]"
   ]
  },
  {
   "cell_type": "markdown",
   "metadata": {},
   "source": [
    "air_time.info()"
   ]
  },
  {
   "cell_type": "markdown",
   "metadata": {},
   "source": [
    "Note: Although this is a part of data cleaning, this was done to improve processing speed"
   ]
  },
  {
   "cell_type": "markdown",
   "metadata": {},
   "source": [
    "air_time.to_csv('air_time.csv')"
   ]
  },
  {
   "cell_type": "code",
   "execution_count": 2,
   "metadata": {},
   "outputs": [
    {
     "name": "stderr",
     "output_type": "stream",
     "text": [
      "C:\\Users\\Dfadokun\\Anaconda3\\lib\\site-packages\\IPython\\core\\interactiveshell.py:3049: DtypeWarning: Columns (24) have mixed types. Specify dtype option on import or set low_memory=False.\n",
      "  interactivity=interactivity, compiler=compiler, result=result)\n"
     ]
    }
   ],
   "source": [
    "# Read air_time.csv file \n",
    "air_time = pd.read_csv('air_time.csv',index_col=False)"
   ]
  },
  {
   "cell_type": "markdown",
   "metadata": {},
   "source": []
  },
  {
   "cell_type": "markdown",
   "metadata": {},
   "source": [
    "## Assess Data"
   ]
  },
  {
   "cell_type": "markdown",
   "metadata": {},
   "source": [
    "In this phase I basically used pandas data assessment function to review data characteristic and also looking out for areas that might require cleaning."
   ]
  },
  {
   "cell_type": "code",
   "execution_count": 3,
   "metadata": {
    "scrolled": true
   },
   "outputs": [
    {
     "name": "stdout",
     "output_type": "stream",
     "text": [
      "<class 'pandas.core.frame.DataFrame'>\n",
      "RangeIndex: 7422037 entries, 0 to 7422036\n",
      "Data columns (total 35 columns):\n",
      "Unnamed: 0             int64\n",
      "FL_DATE                object\n",
      "OP_UNIQUE_CARRIER      object\n",
      "TAIL_NUM               object\n",
      "OP_CARRIER_FL_NUM      int64\n",
      "ORIGIN                 object\n",
      "ORIGIN_CITY_NAME       object\n",
      "ORIGIN_STATE_NM        object\n",
      "DEST                   object\n",
      "DEST_CITY_NAME         object\n",
      "DEST_STATE_NM          object\n",
      "CRS_DEP_TIME           int64\n",
      "DEP_TIME               float64\n",
      "DEP_DELAY              float64\n",
      "DEP_DELAY_NEW          float64\n",
      "TAXI_OUT               float64\n",
      "WHEELS_OFF             float64\n",
      "WHEELS_ON              float64\n",
      "TAXI_IN                float64\n",
      "CRS_ARR_TIME           int64\n",
      "ARR_TIME               float64\n",
      "ARR_DELAY              float64\n",
      "ARR_DELAY_NEW          float64\n",
      "CANCELLED              float64\n",
      "CANCELLATION_CODE      object\n",
      "DIVERTED               float64\n",
      "CRS_ELAPSED_TIME       float64\n",
      "ACTUAL_ELAPSED_TIME    float64\n",
      "AIR_TIME               float64\n",
      "DISTANCE               float64\n",
      "CARRIER_DELAY          float64\n",
      "WEATHER_DELAY          float64\n",
      "NAS_DELAY              float64\n",
      "SECURITY_DELAY         float64\n",
      "LATE_AIRCRAFT_DELAY    float64\n",
      "dtypes: float64(21), int64(4), object(10)\n",
      "memory usage: 1.9+ GB\n"
     ]
    }
   ],
   "source": [
    "air_time.info()"
   ]
  },
  {
   "cell_type": "code",
   "execution_count": 4,
   "metadata": {},
   "outputs": [],
   "source": [
    "pd.set_option('max_columns', None)\n",
    "pd.set_option('max_rows',500)\n",
    "pd.set_option('display.width', None)\n",
    "air_time.drop('Unnamed: 0',axis=1,inplace=True)"
   ]
  },
  {
   "cell_type": "code",
   "execution_count": 5,
   "metadata": {
    "scrolled": false
   },
   "outputs": [
    {
     "data": {
      "text/html": [
       "<div>\n",
       "<style scoped>\n",
       "    .dataframe tbody tr th:only-of-type {\n",
       "        vertical-align: middle;\n",
       "    }\n",
       "\n",
       "    .dataframe tbody tr th {\n",
       "        vertical-align: top;\n",
       "    }\n",
       "\n",
       "    .dataframe thead th {\n",
       "        text-align: right;\n",
       "    }\n",
       "</style>\n",
       "<table border=\"1\" class=\"dataframe\">\n",
       "  <thead>\n",
       "    <tr style=\"text-align: right;\">\n",
       "      <th></th>\n",
       "      <th>OP_CARRIER_FL_NUM</th>\n",
       "      <th>CRS_DEP_TIME</th>\n",
       "      <th>DEP_TIME</th>\n",
       "      <th>DEP_DELAY</th>\n",
       "      <th>DEP_DELAY_NEW</th>\n",
       "      <th>TAXI_OUT</th>\n",
       "      <th>WHEELS_OFF</th>\n",
       "      <th>WHEELS_ON</th>\n",
       "      <th>TAXI_IN</th>\n",
       "      <th>CRS_ARR_TIME</th>\n",
       "      <th>ARR_TIME</th>\n",
       "      <th>ARR_DELAY</th>\n",
       "      <th>ARR_DELAY_NEW</th>\n",
       "      <th>CANCELLED</th>\n",
       "      <th>DIVERTED</th>\n",
       "      <th>CRS_ELAPSED_TIME</th>\n",
       "      <th>ACTUAL_ELAPSED_TIME</th>\n",
       "      <th>AIR_TIME</th>\n",
       "      <th>DISTANCE</th>\n",
       "      <th>CARRIER_DELAY</th>\n",
       "      <th>WEATHER_DELAY</th>\n",
       "      <th>NAS_DELAY</th>\n",
       "      <th>SECURITY_DELAY</th>\n",
       "      <th>LATE_AIRCRAFT_DELAY</th>\n",
       "    </tr>\n",
       "  </thead>\n",
       "  <tbody>\n",
       "    <tr>\n",
       "      <th>count</th>\n",
       "      <td>7.422037e+06</td>\n",
       "      <td>7.422037e+06</td>\n",
       "      <td>7.291951e+06</td>\n",
       "      <td>7.291927e+06</td>\n",
       "      <td>7.291927e+06</td>\n",
       "      <td>7.288060e+06</td>\n",
       "      <td>7.288060e+06</td>\n",
       "      <td>7.284390e+06</td>\n",
       "      <td>7.284390e+06</td>\n",
       "      <td>7.422037e+06</td>\n",
       "      <td>7.284391e+06</td>\n",
       "      <td>7.268232e+06</td>\n",
       "      <td>7.268232e+06</td>\n",
       "      <td>7.422037e+06</td>\n",
       "      <td>7.422037e+06</td>\n",
       "      <td>7.421902e+06</td>\n",
       "      <td>7.268232e+06</td>\n",
       "      <td>7.268232e+06</td>\n",
       "      <td>7.422037e+06</td>\n",
       "      <td>1.389253e+06</td>\n",
       "      <td>1.389253e+06</td>\n",
       "      <td>1.389253e+06</td>\n",
       "      <td>1.389253e+06</td>\n",
       "      <td>1.389253e+06</td>\n",
       "    </tr>\n",
       "    <tr>\n",
       "      <th>mean</th>\n",
       "      <td>2.557196e+03</td>\n",
       "      <td>1.330259e+03</td>\n",
       "      <td>1.334606e+03</td>\n",
       "      <td>1.092327e+01</td>\n",
       "      <td>1.410478e+01</td>\n",
       "      <td>1.738935e+01</td>\n",
       "      <td>1.358264e+03</td>\n",
       "      <td>1.459032e+03</td>\n",
       "      <td>7.740776e+00</td>\n",
       "      <td>1.485790e+03</td>\n",
       "      <td>1.462955e+03</td>\n",
       "      <td>5.414849e+00</td>\n",
       "      <td>1.416780e+01</td>\n",
       "      <td>1.817897e-02</td>\n",
       "      <td>2.543776e-03</td>\n",
       "      <td>1.419022e+02</td>\n",
       "      <td>1.366903e+02</td>\n",
       "      <td>1.115734e+02</td>\n",
       "      <td>8.005437e+02</td>\n",
       "      <td>2.112859e+01</td>\n",
       "      <td>3.802404e+00</td>\n",
       "      <td>1.658795e+01</td>\n",
       "      <td>9.608329e-02</td>\n",
       "      <td>2.740748e+01</td>\n",
       "    </tr>\n",
       "    <tr>\n",
       "      <th>std</th>\n",
       "      <td>1.799413e+03</td>\n",
       "      <td>4.929855e+02</td>\n",
       "      <td>5.071998e+02</td>\n",
       "      <td>4.895964e+01</td>\n",
       "      <td>4.789598e+01</td>\n",
       "      <td>1.000398e+01</td>\n",
       "      <td>5.088109e+02</td>\n",
       "      <td>5.378414e+02</td>\n",
       "      <td>6.194340e+00</td>\n",
       "      <td>5.214659e+02</td>\n",
       "      <td>5.424542e+02</td>\n",
       "      <td>5.106666e+01</td>\n",
       "      <td>4.764549e+01</td>\n",
       "      <td>1.335983e-01</td>\n",
       "      <td>5.037167e-02</td>\n",
       "      <td>7.234685e+01</td>\n",
       "      <td>7.261274e+01</td>\n",
       "      <td>7.056123e+01</td>\n",
       "      <td>5.925118e+02</td>\n",
       "      <td>6.610465e+01</td>\n",
       "      <td>3.236297e+01</td>\n",
       "      <td>3.966440e+01</td>\n",
       "      <td>3.358346e+00</td>\n",
       "      <td>5.345620e+01</td>\n",
       "    </tr>\n",
       "    <tr>\n",
       "      <th>min</th>\n",
       "      <td>1.000000e+00</td>\n",
       "      <td>1.000000e+00</td>\n",
       "      <td>1.000000e+00</td>\n",
       "      <td>-8.200000e+01</td>\n",
       "      <td>0.000000e+00</td>\n",
       "      <td>1.000000e+00</td>\n",
       "      <td>1.000000e+00</td>\n",
       "      <td>1.000000e+00</td>\n",
       "      <td>1.000000e+00</td>\n",
       "      <td>1.000000e+00</td>\n",
       "      <td>1.000000e+00</td>\n",
       "      <td>-9.900000e+01</td>\n",
       "      <td>0.000000e+00</td>\n",
       "      <td>0.000000e+00</td>\n",
       "      <td>0.000000e+00</td>\n",
       "      <td>1.000000e+00</td>\n",
       "      <td>1.500000e+01</td>\n",
       "      <td>4.000000e+00</td>\n",
       "      <td>3.100000e+01</td>\n",
       "      <td>0.000000e+00</td>\n",
       "      <td>0.000000e+00</td>\n",
       "      <td>0.000000e+00</td>\n",
       "      <td>0.000000e+00</td>\n",
       "      <td>0.000000e+00</td>\n",
       "    </tr>\n",
       "    <tr>\n",
       "      <th>25%</th>\n",
       "      <td>1.025000e+03</td>\n",
       "      <td>9.130000e+02</td>\n",
       "      <td>9.140000e+02</td>\n",
       "      <td>-5.000000e+00</td>\n",
       "      <td>0.000000e+00</td>\n",
       "      <td>1.100000e+01</td>\n",
       "      <td>9.300000e+02</td>\n",
       "      <td>1.042000e+03</td>\n",
       "      <td>4.000000e+00</td>\n",
       "      <td>1.100000e+03</td>\n",
       "      <td>1.046000e+03</td>\n",
       "      <td>-1.500000e+01</td>\n",
       "      <td>0.000000e+00</td>\n",
       "      <td>0.000000e+00</td>\n",
       "      <td>0.000000e+00</td>\n",
       "      <td>9.000000e+01</td>\n",
       "      <td>8.400000e+01</td>\n",
       "      <td>6.000000e+01</td>\n",
       "      <td>3.690000e+02</td>\n",
       "      <td>0.000000e+00</td>\n",
       "      <td>0.000000e+00</td>\n",
       "      <td>0.000000e+00</td>\n",
       "      <td>0.000000e+00</td>\n",
       "      <td>0.000000e+00</td>\n",
       "    </tr>\n",
       "    <tr>\n",
       "      <th>50%</th>\n",
       "      <td>2.158000e+03</td>\n",
       "      <td>1.321000e+03</td>\n",
       "      <td>1.327000e+03</td>\n",
       "      <td>-2.000000e+00</td>\n",
       "      <td>0.000000e+00</td>\n",
       "      <td>1.500000e+01</td>\n",
       "      <td>1.340000e+03</td>\n",
       "      <td>1.500000e+03</td>\n",
       "      <td>6.000000e+00</td>\n",
       "      <td>1.515000e+03</td>\n",
       "      <td>1.504000e+03</td>\n",
       "      <td>-6.000000e+00</td>\n",
       "      <td>0.000000e+00</td>\n",
       "      <td>0.000000e+00</td>\n",
       "      <td>0.000000e+00</td>\n",
       "      <td>1.240000e+02</td>\n",
       "      <td>1.190000e+02</td>\n",
       "      <td>9.300000e+01</td>\n",
       "      <td>6.400000e+02</td>\n",
       "      <td>0.000000e+00</td>\n",
       "      <td>0.000000e+00</td>\n",
       "      <td>2.000000e+00</td>\n",
       "      <td>0.000000e+00</td>\n",
       "      <td>3.000000e+00</td>\n",
       "    </tr>\n",
       "    <tr>\n",
       "      <th>75%</th>\n",
       "      <td>3.917000e+03</td>\n",
       "      <td>1.736000e+03</td>\n",
       "      <td>1.746000e+03</td>\n",
       "      <td>7.000000e+00</td>\n",
       "      <td>7.000000e+00</td>\n",
       "      <td>2.000000e+01</td>\n",
       "      <td>1.801000e+03</td>\n",
       "      <td>1.912000e+03</td>\n",
       "      <td>9.000000e+00</td>\n",
       "      <td>1.921000e+03</td>\n",
       "      <td>1.917000e+03</td>\n",
       "      <td>7.000000e+00</td>\n",
       "      <td>7.000000e+00</td>\n",
       "      <td>0.000000e+00</td>\n",
       "      <td>0.000000e+00</td>\n",
       "      <td>1.710000e+02</td>\n",
       "      <td>1.670000e+02</td>\n",
       "      <td>1.410000e+02</td>\n",
       "      <td>1.034000e+03</td>\n",
       "      <td>1.800000e+01</td>\n",
       "      <td>0.000000e+00</td>\n",
       "      <td>2.000000e+01</td>\n",
       "      <td>0.000000e+00</td>\n",
       "      <td>3.300000e+01</td>\n",
       "    </tr>\n",
       "    <tr>\n",
       "      <th>max</th>\n",
       "      <td>7.933000e+03</td>\n",
       "      <td>2.359000e+03</td>\n",
       "      <td>2.400000e+03</td>\n",
       "      <td>2.710000e+03</td>\n",
       "      <td>2.710000e+03</td>\n",
       "      <td>2.270000e+02</td>\n",
       "      <td>2.400000e+03</td>\n",
       "      <td>2.400000e+03</td>\n",
       "      <td>3.160000e+02</td>\n",
       "      <td>2.400000e+03</td>\n",
       "      <td>2.400000e+03</td>\n",
       "      <td>2.695000e+03</td>\n",
       "      <td>2.695000e+03</td>\n",
       "      <td>1.000000e+00</td>\n",
       "      <td>1.000000e+00</td>\n",
       "      <td>9.480000e+02</td>\n",
       "      <td>1.604000e+03</td>\n",
       "      <td>1.557000e+03</td>\n",
       "      <td>5.095000e+03</td>\n",
       "      <td>2.695000e+03</td>\n",
       "      <td>1.847000e+03</td>\n",
       "      <td>1.741000e+03</td>\n",
       "      <td>1.078000e+03</td>\n",
       "      <td>2.206000e+03</td>\n",
       "    </tr>\n",
       "  </tbody>\n",
       "</table>\n",
       "</div>"
      ],
      "text/plain": [
       "       OP_CARRIER_FL_NUM  CRS_DEP_TIME      DEP_TIME     DEP_DELAY  \\\n",
       "count       7.422037e+06  7.422037e+06  7.291951e+06  7.291927e+06   \n",
       "mean        2.557196e+03  1.330259e+03  1.334606e+03  1.092327e+01   \n",
       "std         1.799413e+03  4.929855e+02  5.071998e+02  4.895964e+01   \n",
       "min         1.000000e+00  1.000000e+00  1.000000e+00 -8.200000e+01   \n",
       "25%         1.025000e+03  9.130000e+02  9.140000e+02 -5.000000e+00   \n",
       "50%         2.158000e+03  1.321000e+03  1.327000e+03 -2.000000e+00   \n",
       "75%         3.917000e+03  1.736000e+03  1.746000e+03  7.000000e+00   \n",
       "max         7.933000e+03  2.359000e+03  2.400000e+03  2.710000e+03   \n",
       "\n",
       "       DEP_DELAY_NEW      TAXI_OUT    WHEELS_OFF     WHEELS_ON       TAXI_IN  \\\n",
       "count   7.291927e+06  7.288060e+06  7.288060e+06  7.284390e+06  7.284390e+06   \n",
       "mean    1.410478e+01  1.738935e+01  1.358264e+03  1.459032e+03  7.740776e+00   \n",
       "std     4.789598e+01  1.000398e+01  5.088109e+02  5.378414e+02  6.194340e+00   \n",
       "min     0.000000e+00  1.000000e+00  1.000000e+00  1.000000e+00  1.000000e+00   \n",
       "25%     0.000000e+00  1.100000e+01  9.300000e+02  1.042000e+03  4.000000e+00   \n",
       "50%     0.000000e+00  1.500000e+01  1.340000e+03  1.500000e+03  6.000000e+00   \n",
       "75%     7.000000e+00  2.000000e+01  1.801000e+03  1.912000e+03  9.000000e+00   \n",
       "max     2.710000e+03  2.270000e+02  2.400000e+03  2.400000e+03  3.160000e+02   \n",
       "\n",
       "       CRS_ARR_TIME      ARR_TIME     ARR_DELAY  ARR_DELAY_NEW     CANCELLED  \\\n",
       "count  7.422037e+06  7.284391e+06  7.268232e+06   7.268232e+06  7.422037e+06   \n",
       "mean   1.485790e+03  1.462955e+03  5.414849e+00   1.416780e+01  1.817897e-02   \n",
       "std    5.214659e+02  5.424542e+02  5.106666e+01   4.764549e+01  1.335983e-01   \n",
       "min    1.000000e+00  1.000000e+00 -9.900000e+01   0.000000e+00  0.000000e+00   \n",
       "25%    1.100000e+03  1.046000e+03 -1.500000e+01   0.000000e+00  0.000000e+00   \n",
       "50%    1.515000e+03  1.504000e+03 -6.000000e+00   0.000000e+00  0.000000e+00   \n",
       "75%    1.921000e+03  1.917000e+03  7.000000e+00   7.000000e+00  0.000000e+00   \n",
       "max    2.400000e+03  2.400000e+03  2.695000e+03   2.695000e+03  1.000000e+00   \n",
       "\n",
       "           DIVERTED  CRS_ELAPSED_TIME  ACTUAL_ELAPSED_TIME      AIR_TIME  \\\n",
       "count  7.422037e+06      7.421902e+06         7.268232e+06  7.268232e+06   \n",
       "mean   2.543776e-03      1.419022e+02         1.366903e+02  1.115734e+02   \n",
       "std    5.037167e-02      7.234685e+01         7.261274e+01  7.056123e+01   \n",
       "min    0.000000e+00      1.000000e+00         1.500000e+01  4.000000e+00   \n",
       "25%    0.000000e+00      9.000000e+01         8.400000e+01  6.000000e+01   \n",
       "50%    0.000000e+00      1.240000e+02         1.190000e+02  9.300000e+01   \n",
       "75%    0.000000e+00      1.710000e+02         1.670000e+02  1.410000e+02   \n",
       "max    1.000000e+00      9.480000e+02         1.604000e+03  1.557000e+03   \n",
       "\n",
       "           DISTANCE  CARRIER_DELAY  WEATHER_DELAY     NAS_DELAY  \\\n",
       "count  7.422037e+06   1.389253e+06   1.389253e+06  1.389253e+06   \n",
       "mean   8.005437e+02   2.112859e+01   3.802404e+00  1.658795e+01   \n",
       "std    5.925118e+02   6.610465e+01   3.236297e+01  3.966440e+01   \n",
       "min    3.100000e+01   0.000000e+00   0.000000e+00  0.000000e+00   \n",
       "25%    3.690000e+02   0.000000e+00   0.000000e+00  0.000000e+00   \n",
       "50%    6.400000e+02   0.000000e+00   0.000000e+00  2.000000e+00   \n",
       "75%    1.034000e+03   1.800000e+01   0.000000e+00  2.000000e+01   \n",
       "max    5.095000e+03   2.695000e+03   1.847000e+03  1.741000e+03   \n",
       "\n",
       "       SECURITY_DELAY  LATE_AIRCRAFT_DELAY  \n",
       "count    1.389253e+06         1.389253e+06  \n",
       "mean     9.608329e-02         2.740748e+01  \n",
       "std      3.358346e+00         5.345620e+01  \n",
       "min      0.000000e+00         0.000000e+00  \n",
       "25%      0.000000e+00         0.000000e+00  \n",
       "50%      0.000000e+00         3.000000e+00  \n",
       "75%      0.000000e+00         3.300000e+01  \n",
       "max      1.078000e+03         2.206000e+03  "
      ]
     },
     "execution_count": 5,
     "metadata": {},
     "output_type": "execute_result"
    }
   ],
   "source": [
    "air_time.describe()"
   ]
  },
  {
   "cell_type": "code",
   "execution_count": 6,
   "metadata": {
    "scrolled": true
   },
   "outputs": [
    {
     "data": {
      "text/plain": [
       "(7422037, 34)"
      ]
     },
     "execution_count": 6,
     "metadata": {},
     "output_type": "execute_result"
    }
   ],
   "source": [
    "air_time.shape"
   ]
  },
  {
   "cell_type": "code",
   "execution_count": 7,
   "metadata": {},
   "outputs": [
    {
     "data": {
      "text/plain": [
       "False    7422037\n",
       "dtype: int64"
      ]
     },
     "execution_count": 7,
     "metadata": {},
     "output_type": "execute_result"
    }
   ],
   "source": [
    "air_time.duplicated().value_counts()"
   ]
  },
  {
   "cell_type": "code",
   "execution_count": null,
   "metadata": {},
   "outputs": [],
   "source": []
  },
  {
   "cell_type": "code",
   "execution_count": 8,
   "metadata": {
    "scrolled": false
   },
   "outputs": [
    {
     "data": {
      "text/html": [
       "<div>\n",
       "<style scoped>\n",
       "    .dataframe tbody tr th:only-of-type {\n",
       "        vertical-align: middle;\n",
       "    }\n",
       "\n",
       "    .dataframe tbody tr th {\n",
       "        vertical-align: top;\n",
       "    }\n",
       "\n",
       "    .dataframe thead th {\n",
       "        text-align: right;\n",
       "    }\n",
       "</style>\n",
       "<table border=\"1\" class=\"dataframe\">\n",
       "  <thead>\n",
       "    <tr style=\"text-align: right;\">\n",
       "      <th></th>\n",
       "      <th>FL_DATE</th>\n",
       "      <th>OP_UNIQUE_CARRIER</th>\n",
       "      <th>TAIL_NUM</th>\n",
       "      <th>OP_CARRIER_FL_NUM</th>\n",
       "      <th>ORIGIN</th>\n",
       "      <th>ORIGIN_CITY_NAME</th>\n",
       "      <th>ORIGIN_STATE_NM</th>\n",
       "      <th>DEST</th>\n",
       "      <th>DEST_CITY_NAME</th>\n",
       "      <th>DEST_STATE_NM</th>\n",
       "      <th>CRS_DEP_TIME</th>\n",
       "      <th>DEP_TIME</th>\n",
       "      <th>DEP_DELAY</th>\n",
       "      <th>DEP_DELAY_NEW</th>\n",
       "      <th>TAXI_OUT</th>\n",
       "      <th>WHEELS_OFF</th>\n",
       "      <th>WHEELS_ON</th>\n",
       "      <th>TAXI_IN</th>\n",
       "      <th>CRS_ARR_TIME</th>\n",
       "      <th>ARR_TIME</th>\n",
       "      <th>ARR_DELAY</th>\n",
       "      <th>ARR_DELAY_NEW</th>\n",
       "      <th>CANCELLED</th>\n",
       "      <th>CANCELLATION_CODE</th>\n",
       "      <th>DIVERTED</th>\n",
       "      <th>CRS_ELAPSED_TIME</th>\n",
       "      <th>ACTUAL_ELAPSED_TIME</th>\n",
       "      <th>AIR_TIME</th>\n",
       "      <th>DISTANCE</th>\n",
       "      <th>CARRIER_DELAY</th>\n",
       "      <th>WEATHER_DELAY</th>\n",
       "      <th>NAS_DELAY</th>\n",
       "      <th>SECURITY_DELAY</th>\n",
       "      <th>LATE_AIRCRAFT_DELAY</th>\n",
       "    </tr>\n",
       "  </thead>\n",
       "  <tbody>\n",
       "    <tr>\n",
       "      <th>0</th>\n",
       "      <td>2019-01-06</td>\n",
       "      <td>9E</td>\n",
       "      <td>N8694A</td>\n",
       "      <td>3280</td>\n",
       "      <td>ATL</td>\n",
       "      <td>Atlanta, GA</td>\n",
       "      <td>Georgia</td>\n",
       "      <td>CSG</td>\n",
       "      <td>Columbus, GA</td>\n",
       "      <td>Georgia</td>\n",
       "      <td>1645</td>\n",
       "      <td>1643.0</td>\n",
       "      <td>-2.0</td>\n",
       "      <td>0.0</td>\n",
       "      <td>17.0</td>\n",
       "      <td>1700.0</td>\n",
       "      <td>1718.0</td>\n",
       "      <td>2.0</td>\n",
       "      <td>1732</td>\n",
       "      <td>1720.0</td>\n",
       "      <td>-12.0</td>\n",
       "      <td>0.0</td>\n",
       "      <td>0.0</td>\n",
       "      <td>NaN</td>\n",
       "      <td>0.0</td>\n",
       "      <td>47.0</td>\n",
       "      <td>37.0</td>\n",
       "      <td>18.0</td>\n",
       "      <td>83.0</td>\n",
       "      <td>NaN</td>\n",
       "      <td>NaN</td>\n",
       "      <td>NaN</td>\n",
       "      <td>NaN</td>\n",
       "      <td>NaN</td>\n",
       "    </tr>\n",
       "    <tr>\n",
       "      <th>1</th>\n",
       "      <td>2019-01-07</td>\n",
       "      <td>9E</td>\n",
       "      <td>N8970D</td>\n",
       "      <td>3280</td>\n",
       "      <td>ATL</td>\n",
       "      <td>Atlanta, GA</td>\n",
       "      <td>Georgia</td>\n",
       "      <td>CSG</td>\n",
       "      <td>Columbus, GA</td>\n",
       "      <td>Georgia</td>\n",
       "      <td>1645</td>\n",
       "      <td>1640.0</td>\n",
       "      <td>-5.0</td>\n",
       "      <td>0.0</td>\n",
       "      <td>10.0</td>\n",
       "      <td>1650.0</td>\n",
       "      <td>1709.0</td>\n",
       "      <td>3.0</td>\n",
       "      <td>1732</td>\n",
       "      <td>1712.0</td>\n",
       "      <td>-20.0</td>\n",
       "      <td>0.0</td>\n",
       "      <td>0.0</td>\n",
       "      <td>NaN</td>\n",
       "      <td>0.0</td>\n",
       "      <td>47.0</td>\n",
       "      <td>32.0</td>\n",
       "      <td>19.0</td>\n",
       "      <td>83.0</td>\n",
       "      <td>NaN</td>\n",
       "      <td>NaN</td>\n",
       "      <td>NaN</td>\n",
       "      <td>NaN</td>\n",
       "      <td>NaN</td>\n",
       "    </tr>\n",
       "    <tr>\n",
       "      <th>2</th>\n",
       "      <td>2019-01-08</td>\n",
       "      <td>9E</td>\n",
       "      <td>N820AY</td>\n",
       "      <td>3280</td>\n",
       "      <td>ATL</td>\n",
       "      <td>Atlanta, GA</td>\n",
       "      <td>Georgia</td>\n",
       "      <td>CSG</td>\n",
       "      <td>Columbus, GA</td>\n",
       "      <td>Georgia</td>\n",
       "      <td>1645</td>\n",
       "      <td>1640.0</td>\n",
       "      <td>-5.0</td>\n",
       "      <td>0.0</td>\n",
       "      <td>18.0</td>\n",
       "      <td>1658.0</td>\n",
       "      <td>1717.0</td>\n",
       "      <td>2.0</td>\n",
       "      <td>1732</td>\n",
       "      <td>1719.0</td>\n",
       "      <td>-13.0</td>\n",
       "      <td>0.0</td>\n",
       "      <td>0.0</td>\n",
       "      <td>NaN</td>\n",
       "      <td>0.0</td>\n",
       "      <td>47.0</td>\n",
       "      <td>39.0</td>\n",
       "      <td>19.0</td>\n",
       "      <td>83.0</td>\n",
       "      <td>NaN</td>\n",
       "      <td>NaN</td>\n",
       "      <td>NaN</td>\n",
       "      <td>NaN</td>\n",
       "      <td>NaN</td>\n",
       "    </tr>\n",
       "    <tr>\n",
       "      <th>3</th>\n",
       "      <td>2019-01-09</td>\n",
       "      <td>9E</td>\n",
       "      <td>N840AY</td>\n",
       "      <td>3280</td>\n",
       "      <td>ATL</td>\n",
       "      <td>Atlanta, GA</td>\n",
       "      <td>Georgia</td>\n",
       "      <td>CSG</td>\n",
       "      <td>Columbus, GA</td>\n",
       "      <td>Georgia</td>\n",
       "      <td>1645</td>\n",
       "      <td>1640.0</td>\n",
       "      <td>-5.0</td>\n",
       "      <td>0.0</td>\n",
       "      <td>14.0</td>\n",
       "      <td>1654.0</td>\n",
       "      <td>1713.0</td>\n",
       "      <td>4.0</td>\n",
       "      <td>1732</td>\n",
       "      <td>1717.0</td>\n",
       "      <td>-15.0</td>\n",
       "      <td>0.0</td>\n",
       "      <td>0.0</td>\n",
       "      <td>NaN</td>\n",
       "      <td>0.0</td>\n",
       "      <td>47.0</td>\n",
       "      <td>37.0</td>\n",
       "      <td>19.0</td>\n",
       "      <td>83.0</td>\n",
       "      <td>NaN</td>\n",
       "      <td>NaN</td>\n",
       "      <td>NaN</td>\n",
       "      <td>NaN</td>\n",
       "      <td>NaN</td>\n",
       "    </tr>\n",
       "    <tr>\n",
       "      <th>4</th>\n",
       "      <td>2019-01-10</td>\n",
       "      <td>9E</td>\n",
       "      <td>N8969A</td>\n",
       "      <td>3280</td>\n",
       "      <td>ATL</td>\n",
       "      <td>Atlanta, GA</td>\n",
       "      <td>Georgia</td>\n",
       "      <td>CSG</td>\n",
       "      <td>Columbus, GA</td>\n",
       "      <td>Georgia</td>\n",
       "      <td>1645</td>\n",
       "      <td>1640.0</td>\n",
       "      <td>-5.0</td>\n",
       "      <td>0.0</td>\n",
       "      <td>16.0</td>\n",
       "      <td>1656.0</td>\n",
       "      <td>1717.0</td>\n",
       "      <td>4.0</td>\n",
       "      <td>1732</td>\n",
       "      <td>1721.0</td>\n",
       "      <td>-11.0</td>\n",
       "      <td>0.0</td>\n",
       "      <td>0.0</td>\n",
       "      <td>NaN</td>\n",
       "      <td>0.0</td>\n",
       "      <td>47.0</td>\n",
       "      <td>41.0</td>\n",
       "      <td>21.0</td>\n",
       "      <td>83.0</td>\n",
       "      <td>NaN</td>\n",
       "      <td>NaN</td>\n",
       "      <td>NaN</td>\n",
       "      <td>NaN</td>\n",
       "      <td>NaN</td>\n",
       "    </tr>\n",
       "    <tr>\n",
       "      <th>5</th>\n",
       "      <td>2019-01-11</td>\n",
       "      <td>9E</td>\n",
       "      <td>N8683B</td>\n",
       "      <td>3280</td>\n",
       "      <td>ATL</td>\n",
       "      <td>Atlanta, GA</td>\n",
       "      <td>Georgia</td>\n",
       "      <td>CSG</td>\n",
       "      <td>Columbus, GA</td>\n",
       "      <td>Georgia</td>\n",
       "      <td>1645</td>\n",
       "      <td>1640.0</td>\n",
       "      <td>-5.0</td>\n",
       "      <td>0.0</td>\n",
       "      <td>27.0</td>\n",
       "      <td>1707.0</td>\n",
       "      <td>1731.0</td>\n",
       "      <td>5.0</td>\n",
       "      <td>1732</td>\n",
       "      <td>1736.0</td>\n",
       "      <td>4.0</td>\n",
       "      <td>4.0</td>\n",
       "      <td>0.0</td>\n",
       "      <td>NaN</td>\n",
       "      <td>0.0</td>\n",
       "      <td>47.0</td>\n",
       "      <td>56.0</td>\n",
       "      <td>24.0</td>\n",
       "      <td>83.0</td>\n",
       "      <td>NaN</td>\n",
       "      <td>NaN</td>\n",
       "      <td>NaN</td>\n",
       "      <td>NaN</td>\n",
       "      <td>NaN</td>\n",
       "    </tr>\n",
       "    <tr>\n",
       "      <th>6</th>\n",
       "      <td>2019-01-13</td>\n",
       "      <td>9E</td>\n",
       "      <td>N8688C</td>\n",
       "      <td>3280</td>\n",
       "      <td>ATL</td>\n",
       "      <td>Atlanta, GA</td>\n",
       "      <td>Georgia</td>\n",
       "      <td>CSG</td>\n",
       "      <td>Columbus, GA</td>\n",
       "      <td>Georgia</td>\n",
       "      <td>1645</td>\n",
       "      <td>1714.0</td>\n",
       "      <td>29.0</td>\n",
       "      <td>29.0</td>\n",
       "      <td>12.0</td>\n",
       "      <td>1726.0</td>\n",
       "      <td>1752.0</td>\n",
       "      <td>4.0</td>\n",
       "      <td>1732</td>\n",
       "      <td>1756.0</td>\n",
       "      <td>24.0</td>\n",
       "      <td>24.0</td>\n",
       "      <td>0.0</td>\n",
       "      <td>NaN</td>\n",
       "      <td>0.0</td>\n",
       "      <td>47.0</td>\n",
       "      <td>42.0</td>\n",
       "      <td>26.0</td>\n",
       "      <td>83.0</td>\n",
       "      <td>18.0</td>\n",
       "      <td>0.0</td>\n",
       "      <td>0.0</td>\n",
       "      <td>0.0</td>\n",
       "      <td>6.0</td>\n",
       "    </tr>\n",
       "    <tr>\n",
       "      <th>7</th>\n",
       "      <td>2019-01-14</td>\n",
       "      <td>9E</td>\n",
       "      <td>N8886A</td>\n",
       "      <td>3280</td>\n",
       "      <td>ATL</td>\n",
       "      <td>Atlanta, GA</td>\n",
       "      <td>Georgia</td>\n",
       "      <td>CSG</td>\n",
       "      <td>Columbus, GA</td>\n",
       "      <td>Georgia</td>\n",
       "      <td>1645</td>\n",
       "      <td>1639.0</td>\n",
       "      <td>-6.0</td>\n",
       "      <td>0.0</td>\n",
       "      <td>12.0</td>\n",
       "      <td>1651.0</td>\n",
       "      <td>1713.0</td>\n",
       "      <td>3.0</td>\n",
       "      <td>1732</td>\n",
       "      <td>1716.0</td>\n",
       "      <td>-16.0</td>\n",
       "      <td>0.0</td>\n",
       "      <td>0.0</td>\n",
       "      <td>NaN</td>\n",
       "      <td>0.0</td>\n",
       "      <td>47.0</td>\n",
       "      <td>37.0</td>\n",
       "      <td>22.0</td>\n",
       "      <td>83.0</td>\n",
       "      <td>NaN</td>\n",
       "      <td>NaN</td>\n",
       "      <td>NaN</td>\n",
       "      <td>NaN</td>\n",
       "      <td>NaN</td>\n",
       "    </tr>\n",
       "    <tr>\n",
       "      <th>8</th>\n",
       "      <td>2019-01-15</td>\n",
       "      <td>9E</td>\n",
       "      <td>N8928A</td>\n",
       "      <td>3280</td>\n",
       "      <td>ATL</td>\n",
       "      <td>Atlanta, GA</td>\n",
       "      <td>Georgia</td>\n",
       "      <td>CSG</td>\n",
       "      <td>Columbus, GA</td>\n",
       "      <td>Georgia</td>\n",
       "      <td>1645</td>\n",
       "      <td>1640.0</td>\n",
       "      <td>-5.0</td>\n",
       "      <td>0.0</td>\n",
       "      <td>17.0</td>\n",
       "      <td>1657.0</td>\n",
       "      <td>1719.0</td>\n",
       "      <td>3.0</td>\n",
       "      <td>1732</td>\n",
       "      <td>1722.0</td>\n",
       "      <td>-10.0</td>\n",
       "      <td>0.0</td>\n",
       "      <td>0.0</td>\n",
       "      <td>NaN</td>\n",
       "      <td>0.0</td>\n",
       "      <td>47.0</td>\n",
       "      <td>42.0</td>\n",
       "      <td>22.0</td>\n",
       "      <td>83.0</td>\n",
       "      <td>NaN</td>\n",
       "      <td>NaN</td>\n",
       "      <td>NaN</td>\n",
       "      <td>NaN</td>\n",
       "      <td>NaN</td>\n",
       "    </tr>\n",
       "    <tr>\n",
       "      <th>9</th>\n",
       "      <td>2019-01-16</td>\n",
       "      <td>9E</td>\n",
       "      <td>N981EV</td>\n",
       "      <td>3280</td>\n",
       "      <td>ATL</td>\n",
       "      <td>Atlanta, GA</td>\n",
       "      <td>Georgia</td>\n",
       "      <td>CSG</td>\n",
       "      <td>Columbus, GA</td>\n",
       "      <td>Georgia</td>\n",
       "      <td>1645</td>\n",
       "      <td>1902.0</td>\n",
       "      <td>137.0</td>\n",
       "      <td>137.0</td>\n",
       "      <td>21.0</td>\n",
       "      <td>1923.0</td>\n",
       "      <td>1941.0</td>\n",
       "      <td>3.0</td>\n",
       "      <td>1732</td>\n",
       "      <td>1944.0</td>\n",
       "      <td>132.0</td>\n",
       "      <td>132.0</td>\n",
       "      <td>0.0</td>\n",
       "      <td>NaN</td>\n",
       "      <td>0.0</td>\n",
       "      <td>47.0</td>\n",
       "      <td>42.0</td>\n",
       "      <td>18.0</td>\n",
       "      <td>83.0</td>\n",
       "      <td>132.0</td>\n",
       "      <td>0.0</td>\n",
       "      <td>0.0</td>\n",
       "      <td>0.0</td>\n",
       "      <td>0.0</td>\n",
       "    </tr>\n",
       "  </tbody>\n",
       "</table>\n",
       "</div>"
      ],
      "text/plain": [
       "      FL_DATE OP_UNIQUE_CARRIER TAIL_NUM  OP_CARRIER_FL_NUM ORIGIN  \\\n",
       "0  2019-01-06                9E   N8694A               3280    ATL   \n",
       "1  2019-01-07                9E   N8970D               3280    ATL   \n",
       "2  2019-01-08                9E   N820AY               3280    ATL   \n",
       "3  2019-01-09                9E   N840AY               3280    ATL   \n",
       "4  2019-01-10                9E   N8969A               3280    ATL   \n",
       "5  2019-01-11                9E   N8683B               3280    ATL   \n",
       "6  2019-01-13                9E   N8688C               3280    ATL   \n",
       "7  2019-01-14                9E   N8886A               3280    ATL   \n",
       "8  2019-01-15                9E   N8928A               3280    ATL   \n",
       "9  2019-01-16                9E   N981EV               3280    ATL   \n",
       "\n",
       "  ORIGIN_CITY_NAME ORIGIN_STATE_NM DEST DEST_CITY_NAME DEST_STATE_NM  \\\n",
       "0      Atlanta, GA         Georgia  CSG   Columbus, GA       Georgia   \n",
       "1      Atlanta, GA         Georgia  CSG   Columbus, GA       Georgia   \n",
       "2      Atlanta, GA         Georgia  CSG   Columbus, GA       Georgia   \n",
       "3      Atlanta, GA         Georgia  CSG   Columbus, GA       Georgia   \n",
       "4      Atlanta, GA         Georgia  CSG   Columbus, GA       Georgia   \n",
       "5      Atlanta, GA         Georgia  CSG   Columbus, GA       Georgia   \n",
       "6      Atlanta, GA         Georgia  CSG   Columbus, GA       Georgia   \n",
       "7      Atlanta, GA         Georgia  CSG   Columbus, GA       Georgia   \n",
       "8      Atlanta, GA         Georgia  CSG   Columbus, GA       Georgia   \n",
       "9      Atlanta, GA         Georgia  CSG   Columbus, GA       Georgia   \n",
       "\n",
       "   CRS_DEP_TIME  DEP_TIME  DEP_DELAY  DEP_DELAY_NEW  TAXI_OUT  WHEELS_OFF  \\\n",
       "0          1645    1643.0       -2.0            0.0      17.0      1700.0   \n",
       "1          1645    1640.0       -5.0            0.0      10.0      1650.0   \n",
       "2          1645    1640.0       -5.0            0.0      18.0      1658.0   \n",
       "3          1645    1640.0       -5.0            0.0      14.0      1654.0   \n",
       "4          1645    1640.0       -5.0            0.0      16.0      1656.0   \n",
       "5          1645    1640.0       -5.0            0.0      27.0      1707.0   \n",
       "6          1645    1714.0       29.0           29.0      12.0      1726.0   \n",
       "7          1645    1639.0       -6.0            0.0      12.0      1651.0   \n",
       "8          1645    1640.0       -5.0            0.0      17.0      1657.0   \n",
       "9          1645    1902.0      137.0          137.0      21.0      1923.0   \n",
       "\n",
       "   WHEELS_ON  TAXI_IN  CRS_ARR_TIME  ARR_TIME  ARR_DELAY  ARR_DELAY_NEW  \\\n",
       "0     1718.0      2.0          1732    1720.0      -12.0            0.0   \n",
       "1     1709.0      3.0          1732    1712.0      -20.0            0.0   \n",
       "2     1717.0      2.0          1732    1719.0      -13.0            0.0   \n",
       "3     1713.0      4.0          1732    1717.0      -15.0            0.0   \n",
       "4     1717.0      4.0          1732    1721.0      -11.0            0.0   \n",
       "5     1731.0      5.0          1732    1736.0        4.0            4.0   \n",
       "6     1752.0      4.0          1732    1756.0       24.0           24.0   \n",
       "7     1713.0      3.0          1732    1716.0      -16.0            0.0   \n",
       "8     1719.0      3.0          1732    1722.0      -10.0            0.0   \n",
       "9     1941.0      3.0          1732    1944.0      132.0          132.0   \n",
       "\n",
       "   CANCELLED CANCELLATION_CODE  DIVERTED  CRS_ELAPSED_TIME  \\\n",
       "0        0.0               NaN       0.0              47.0   \n",
       "1        0.0               NaN       0.0              47.0   \n",
       "2        0.0               NaN       0.0              47.0   \n",
       "3        0.0               NaN       0.0              47.0   \n",
       "4        0.0               NaN       0.0              47.0   \n",
       "5        0.0               NaN       0.0              47.0   \n",
       "6        0.0               NaN       0.0              47.0   \n",
       "7        0.0               NaN       0.0              47.0   \n",
       "8        0.0               NaN       0.0              47.0   \n",
       "9        0.0               NaN       0.0              47.0   \n",
       "\n",
       "   ACTUAL_ELAPSED_TIME  AIR_TIME  DISTANCE  CARRIER_DELAY  WEATHER_DELAY  \\\n",
       "0                 37.0      18.0      83.0            NaN            NaN   \n",
       "1                 32.0      19.0      83.0            NaN            NaN   \n",
       "2                 39.0      19.0      83.0            NaN            NaN   \n",
       "3                 37.0      19.0      83.0            NaN            NaN   \n",
       "4                 41.0      21.0      83.0            NaN            NaN   \n",
       "5                 56.0      24.0      83.0            NaN            NaN   \n",
       "6                 42.0      26.0      83.0           18.0            0.0   \n",
       "7                 37.0      22.0      83.0            NaN            NaN   \n",
       "8                 42.0      22.0      83.0            NaN            NaN   \n",
       "9                 42.0      18.0      83.0          132.0            0.0   \n",
       "\n",
       "   NAS_DELAY  SECURITY_DELAY  LATE_AIRCRAFT_DELAY  \n",
       "0        NaN             NaN                  NaN  \n",
       "1        NaN             NaN                  NaN  \n",
       "2        NaN             NaN                  NaN  \n",
       "3        NaN             NaN                  NaN  \n",
       "4        NaN             NaN                  NaN  \n",
       "5        NaN             NaN                  NaN  \n",
       "6        0.0             0.0                  6.0  \n",
       "7        NaN             NaN                  NaN  \n",
       "8        NaN             NaN                  NaN  \n",
       "9        0.0             0.0                  0.0  "
      ]
     },
     "execution_count": 8,
     "metadata": {},
     "output_type": "execute_result"
    }
   ],
   "source": [
    "air_time.head(10)"
   ]
  },
  {
   "cell_type": "code",
   "execution_count": 9,
   "metadata": {},
   "outputs": [
    {
     "data": {
      "text/html": [
       "<div>\n",
       "<style scoped>\n",
       "    .dataframe tbody tr th:only-of-type {\n",
       "        vertical-align: middle;\n",
       "    }\n",
       "\n",
       "    .dataframe tbody tr th {\n",
       "        vertical-align: top;\n",
       "    }\n",
       "\n",
       "    .dataframe thead th {\n",
       "        text-align: right;\n",
       "    }\n",
       "</style>\n",
       "<table border=\"1\" class=\"dataframe\">\n",
       "  <thead>\n",
       "    <tr style=\"text-align: right;\">\n",
       "      <th></th>\n",
       "      <th>FL_DATE</th>\n",
       "      <th>OP_UNIQUE_CARRIER</th>\n",
       "      <th>TAIL_NUM</th>\n",
       "      <th>OP_CARRIER_FL_NUM</th>\n",
       "      <th>ORIGIN</th>\n",
       "      <th>ORIGIN_CITY_NAME</th>\n",
       "      <th>ORIGIN_STATE_NM</th>\n",
       "      <th>DEST</th>\n",
       "      <th>DEST_CITY_NAME</th>\n",
       "      <th>DEST_STATE_NM</th>\n",
       "      <th>CRS_DEP_TIME</th>\n",
       "      <th>DEP_TIME</th>\n",
       "      <th>DEP_DELAY</th>\n",
       "      <th>DEP_DELAY_NEW</th>\n",
       "      <th>TAXI_OUT</th>\n",
       "      <th>WHEELS_OFF</th>\n",
       "      <th>WHEELS_ON</th>\n",
       "      <th>TAXI_IN</th>\n",
       "      <th>CRS_ARR_TIME</th>\n",
       "      <th>ARR_TIME</th>\n",
       "      <th>ARR_DELAY</th>\n",
       "      <th>ARR_DELAY_NEW</th>\n",
       "      <th>CANCELLED</th>\n",
       "      <th>CANCELLATION_CODE</th>\n",
       "      <th>DIVERTED</th>\n",
       "      <th>CRS_ELAPSED_TIME</th>\n",
       "      <th>ACTUAL_ELAPSED_TIME</th>\n",
       "      <th>AIR_TIME</th>\n",
       "      <th>DISTANCE</th>\n",
       "      <th>CARRIER_DELAY</th>\n",
       "      <th>WEATHER_DELAY</th>\n",
       "      <th>NAS_DELAY</th>\n",
       "      <th>SECURITY_DELAY</th>\n",
       "      <th>LATE_AIRCRAFT_DELAY</th>\n",
       "    </tr>\n",
       "  </thead>\n",
       "  <tbody>\n",
       "    <tr>\n",
       "      <th>4782028</th>\n",
       "      <td>2019-08-01</td>\n",
       "      <td>DL</td>\n",
       "      <td>N328NW</td>\n",
       "      <td>2190</td>\n",
       "      <td>JFK</td>\n",
       "      <td>New York, NY</td>\n",
       "      <td>New York</td>\n",
       "      <td>MIA</td>\n",
       "      <td>Miami, FL</td>\n",
       "      <td>Florida</td>\n",
       "      <td>805</td>\n",
       "      <td>806.0</td>\n",
       "      <td>1.0</td>\n",
       "      <td>1.0</td>\n",
       "      <td>21.0</td>\n",
       "      <td>827.0</td>\n",
       "      <td>1059.0</td>\n",
       "      <td>4.0</td>\n",
       "      <td>1114</td>\n",
       "      <td>1103.0</td>\n",
       "      <td>-11.0</td>\n",
       "      <td>0.0</td>\n",
       "      <td>0.0</td>\n",
       "      <td>NaN</td>\n",
       "      <td>0.0</td>\n",
       "      <td>189.0</td>\n",
       "      <td>177.0</td>\n",
       "      <td>152.0</td>\n",
       "      <td>1089.0</td>\n",
       "      <td>NaN</td>\n",
       "      <td>NaN</td>\n",
       "      <td>NaN</td>\n",
       "      <td>NaN</td>\n",
       "      <td>NaN</td>\n",
       "    </tr>\n",
       "    <tr>\n",
       "      <th>4722727</th>\n",
       "      <td>2019-08-22</td>\n",
       "      <td>YX</td>\n",
       "      <td>N638RW</td>\n",
       "      <td>3422</td>\n",
       "      <td>BGR</td>\n",
       "      <td>Bangor, ME</td>\n",
       "      <td>Maine</td>\n",
       "      <td>ORD</td>\n",
       "      <td>Chicago, IL</td>\n",
       "      <td>Illinois</td>\n",
       "      <td>700</td>\n",
       "      <td>654.0</td>\n",
       "      <td>-6.0</td>\n",
       "      <td>0.0</td>\n",
       "      <td>23.0</td>\n",
       "      <td>717.0</td>\n",
       "      <td>850.0</td>\n",
       "      <td>11.0</td>\n",
       "      <td>905</td>\n",
       "      <td>901.0</td>\n",
       "      <td>-4.0</td>\n",
       "      <td>0.0</td>\n",
       "      <td>0.0</td>\n",
       "      <td>NaN</td>\n",
       "      <td>0.0</td>\n",
       "      <td>185.0</td>\n",
       "      <td>187.0</td>\n",
       "      <td>153.0</td>\n",
       "      <td>978.0</td>\n",
       "      <td>NaN</td>\n",
       "      <td>NaN</td>\n",
       "      <td>NaN</td>\n",
       "      <td>NaN</td>\n",
       "      <td>NaN</td>\n",
       "    </tr>\n",
       "    <tr>\n",
       "      <th>5903702</th>\n",
       "      <td>2019-10-18</td>\n",
       "      <td>HA</td>\n",
       "      <td>N483HA</td>\n",
       "      <td>334</td>\n",
       "      <td>LIH</td>\n",
       "      <td>Lihue, HI</td>\n",
       "      <td>Hawaii</td>\n",
       "      <td>HNL</td>\n",
       "      <td>Honolulu, HI</td>\n",
       "      <td>Hawaii</td>\n",
       "      <td>1615</td>\n",
       "      <td>1616.0</td>\n",
       "      <td>1.0</td>\n",
       "      <td>1.0</td>\n",
       "      <td>7.0</td>\n",
       "      <td>1623.0</td>\n",
       "      <td>1647.0</td>\n",
       "      <td>6.0</td>\n",
       "      <td>1650</td>\n",
       "      <td>1653.0</td>\n",
       "      <td>3.0</td>\n",
       "      <td>3.0</td>\n",
       "      <td>0.0</td>\n",
       "      <td>NaN</td>\n",
       "      <td>0.0</td>\n",
       "      <td>35.0</td>\n",
       "      <td>37.0</td>\n",
       "      <td>24.0</td>\n",
       "      <td>102.0</td>\n",
       "      <td>NaN</td>\n",
       "      <td>NaN</td>\n",
       "      <td>NaN</td>\n",
       "      <td>NaN</td>\n",
       "      <td>NaN</td>\n",
       "    </tr>\n",
       "    <tr>\n",
       "      <th>2320768</th>\n",
       "      <td>2019-04-21</td>\n",
       "      <td>9E</td>\n",
       "      <td>N903XJ</td>\n",
       "      <td>5141</td>\n",
       "      <td>CLE</td>\n",
       "      <td>Cleveland, OH</td>\n",
       "      <td>Ohio</td>\n",
       "      <td>BOS</td>\n",
       "      <td>Boston, MA</td>\n",
       "      <td>Massachusetts</td>\n",
       "      <td>1735</td>\n",
       "      <td>1800.0</td>\n",
       "      <td>25.0</td>\n",
       "      <td>25.0</td>\n",
       "      <td>13.0</td>\n",
       "      <td>1813.0</td>\n",
       "      <td>1940.0</td>\n",
       "      <td>9.0</td>\n",
       "      <td>1930</td>\n",
       "      <td>1949.0</td>\n",
       "      <td>19.0</td>\n",
       "      <td>19.0</td>\n",
       "      <td>0.0</td>\n",
       "      <td>NaN</td>\n",
       "      <td>0.0</td>\n",
       "      <td>115.0</td>\n",
       "      <td>109.0</td>\n",
       "      <td>87.0</td>\n",
       "      <td>563.0</td>\n",
       "      <td>0.0</td>\n",
       "      <td>0.0</td>\n",
       "      <td>19.0</td>\n",
       "      <td>0.0</td>\n",
       "      <td>0.0</td>\n",
       "    </tr>\n",
       "    <tr>\n",
       "      <th>4724945</th>\n",
       "      <td>2019-08-28</td>\n",
       "      <td>MQ</td>\n",
       "      <td>N696AE</td>\n",
       "      <td>3351</td>\n",
       "      <td>IND</td>\n",
       "      <td>Indianapolis, IN</td>\n",
       "      <td>Indiana</td>\n",
       "      <td>ORD</td>\n",
       "      <td>Chicago, IL</td>\n",
       "      <td>Illinois</td>\n",
       "      <td>1741</td>\n",
       "      <td>1738.0</td>\n",
       "      <td>-3.0</td>\n",
       "      <td>0.0</td>\n",
       "      <td>12.0</td>\n",
       "      <td>1750.0</td>\n",
       "      <td>1729.0</td>\n",
       "      <td>5.0</td>\n",
       "      <td>1758</td>\n",
       "      <td>1734.0</td>\n",
       "      <td>-24.0</td>\n",
       "      <td>0.0</td>\n",
       "      <td>0.0</td>\n",
       "      <td>NaN</td>\n",
       "      <td>0.0</td>\n",
       "      <td>77.0</td>\n",
       "      <td>56.0</td>\n",
       "      <td>39.0</td>\n",
       "      <td>177.0</td>\n",
       "      <td>NaN</td>\n",
       "      <td>NaN</td>\n",
       "      <td>NaN</td>\n",
       "      <td>NaN</td>\n",
       "      <td>NaN</td>\n",
       "    </tr>\n",
       "  </tbody>\n",
       "</table>\n",
       "</div>"
      ],
      "text/plain": [
       "            FL_DATE OP_UNIQUE_CARRIER TAIL_NUM  OP_CARRIER_FL_NUM ORIGIN  \\\n",
       "4782028  2019-08-01                DL   N328NW               2190    JFK   \n",
       "4722727  2019-08-22                YX   N638RW               3422    BGR   \n",
       "5903702  2019-10-18                HA   N483HA                334    LIH   \n",
       "2320768  2019-04-21                9E   N903XJ               5141    CLE   \n",
       "4724945  2019-08-28                MQ   N696AE               3351    IND   \n",
       "\n",
       "         ORIGIN_CITY_NAME ORIGIN_STATE_NM DEST DEST_CITY_NAME  DEST_STATE_NM  \\\n",
       "4782028      New York, NY        New York  MIA      Miami, FL        Florida   \n",
       "4722727        Bangor, ME           Maine  ORD    Chicago, IL       Illinois   \n",
       "5903702         Lihue, HI          Hawaii  HNL   Honolulu, HI         Hawaii   \n",
       "2320768     Cleveland, OH            Ohio  BOS     Boston, MA  Massachusetts   \n",
       "4724945  Indianapolis, IN         Indiana  ORD    Chicago, IL       Illinois   \n",
       "\n",
       "         CRS_DEP_TIME  DEP_TIME  DEP_DELAY  DEP_DELAY_NEW  TAXI_OUT  \\\n",
       "4782028           805     806.0        1.0            1.0      21.0   \n",
       "4722727           700     654.0       -6.0            0.0      23.0   \n",
       "5903702          1615    1616.0        1.0            1.0       7.0   \n",
       "2320768          1735    1800.0       25.0           25.0      13.0   \n",
       "4724945          1741    1738.0       -3.0            0.0      12.0   \n",
       "\n",
       "         WHEELS_OFF  WHEELS_ON  TAXI_IN  CRS_ARR_TIME  ARR_TIME  ARR_DELAY  \\\n",
       "4782028       827.0     1059.0      4.0          1114    1103.0      -11.0   \n",
       "4722727       717.0      850.0     11.0           905     901.0       -4.0   \n",
       "5903702      1623.0     1647.0      6.0          1650    1653.0        3.0   \n",
       "2320768      1813.0     1940.0      9.0          1930    1949.0       19.0   \n",
       "4724945      1750.0     1729.0      5.0          1758    1734.0      -24.0   \n",
       "\n",
       "         ARR_DELAY_NEW  CANCELLED CANCELLATION_CODE  DIVERTED  \\\n",
       "4782028            0.0        0.0               NaN       0.0   \n",
       "4722727            0.0        0.0               NaN       0.0   \n",
       "5903702            3.0        0.0               NaN       0.0   \n",
       "2320768           19.0        0.0               NaN       0.0   \n",
       "4724945            0.0        0.0               NaN       0.0   \n",
       "\n",
       "         CRS_ELAPSED_TIME  ACTUAL_ELAPSED_TIME  AIR_TIME  DISTANCE  \\\n",
       "4782028             189.0                177.0     152.0    1089.0   \n",
       "4722727             185.0                187.0     153.0     978.0   \n",
       "5903702              35.0                 37.0      24.0     102.0   \n",
       "2320768             115.0                109.0      87.0     563.0   \n",
       "4724945              77.0                 56.0      39.0     177.0   \n",
       "\n",
       "         CARRIER_DELAY  WEATHER_DELAY  NAS_DELAY  SECURITY_DELAY  \\\n",
       "4782028            NaN            NaN        NaN             NaN   \n",
       "4722727            NaN            NaN        NaN             NaN   \n",
       "5903702            NaN            NaN        NaN             NaN   \n",
       "2320768            0.0            0.0       19.0             0.0   \n",
       "4724945            NaN            NaN        NaN             NaN   \n",
       "\n",
       "         LATE_AIRCRAFT_DELAY  \n",
       "4782028                  NaN  \n",
       "4722727                  NaN  \n",
       "5903702                  NaN  \n",
       "2320768                  0.0  \n",
       "4724945                  NaN  "
      ]
     },
     "execution_count": 9,
     "metadata": {},
     "output_type": "execute_result"
    }
   ],
   "source": [
    "air_time.sample(5)"
   ]
  },
  {
   "cell_type": "code",
   "execution_count": 10,
   "metadata": {
    "scrolled": false
   },
   "outputs": [
    {
     "data": {
      "text/plain": [
       "7287112"
      ]
     },
     "execution_count": 10,
     "metadata": {},
     "output_type": "execute_result"
    }
   ],
   "source": [
    "air_time[air_time['CANCELLED']!=1.0]['ORIGIN'].value_counts().sum()"
   ]
  },
  {
   "cell_type": "code",
   "execution_count": 11,
   "metadata": {},
   "outputs": [
    {
     "data": {
      "text/plain": [
       "134925"
      ]
     },
     "execution_count": 11,
     "metadata": {},
     "output_type": "execute_result"
    }
   ],
   "source": [
    "air_time[air_time['CANCELLED']==1.0]['ORIGIN'].value_counts().sum()"
   ]
  },
  {
   "cell_type": "code",
   "execution_count": null,
   "metadata": {},
   "outputs": [],
   "source": []
  },
  {
   "cell_type": "markdown",
   "metadata": {},
   "source": [
    "## Data cleaning\n",
    "\n",
    "Although not the major focus of this project but we still need to clean to ensure we can produce the need visualizations"
   ]
  },
  {
   "cell_type": "code",
   "execution_count": 12,
   "metadata": {},
   "outputs": [],
   "source": [
    "air_time['FL_DATE']=pd.to_datetime(air_time['FL_DATE'], format=\"%Y-%m-%d\")\n",
    "air_time['MONTH']=air_time['FL_DATE'].dt.month\n",
    "air_time['MONTH'].replace([1,2,3,4,5,6,7,8,9,10,11,12],[\"Jan\",\"Feb\", \"Mar\", \"Apr\",\"May\",\"Jun\",\"Jul\",\"Aug\",\"Sep\",\"Oct\",\"Nov\",\"Dec\"],inplace=True)\n",
    "air_time['DAY']=air_time['FL_DATE'].dt.dayofweek\n",
    "air_time['DAY'].replace([0,1,2,3,4,5,6],[\"Mon\",\"Tues\", \"Wed\", \"Thur\",\"Fri\",\"Sat\",\"Sun\"],inplace=True)"
   ]
  },
  {
   "cell_type": "code",
   "execution_count": null,
   "metadata": {},
   "outputs": [],
   "source": [
    "air_time['CANCELLED'] = air_time['CANCELLED'].astype(int)\n",
    "air_time['DIVERTED'] = air_time['DIVERTED'].astype(int)\n",
    "air_time['DEP_DELAY_NEW'] = air_time['CANCELLED'].astype(int)\n",
    "air_time['ARR_DELAY_NEW'] = air_time['CANCELLED'].astype(int)"
   ]
  },
  {
   "cell_type": "code",
   "execution_count": null,
   "metadata": {
    "scrolled": true
   },
   "outputs": [],
   "source": [
    "air_time.loc[:,['CARRIER_DELAY','WEATHER_DELAY','NAS_DELAY','SECURITY_DELAY','LATE_AIRCRAFT_DELAY']].count(numeric_only=True)"
   ]
  },
  {
   "cell_type": "code",
   "execution_count": null,
   "metadata": {
    "scrolled": true
   },
   "outputs": [],
   "source": [
    "air_time['CARRIER_DELAY'].replace(0.0,np.nan,inplace=True)\n",
    "air_time['WEATHER_DELAY'].replace(0.0,np.nan,inplace=True)\n",
    "air_time['NAS_DELAY'].replace(0.0,np.nan,inplace=True)\n",
    "air_time['SECURITY_DELAY'].replace(0.0,np.nan,inplace=True)\n",
    "air_time['LATE_AIRCRAFT_DELAY'].replace(0.0,np.nan,inplace=True)"
   ]
  },
  {
   "cell_type": "code",
   "execution_count": null,
   "metadata": {},
   "outputs": [],
   "source": [
    "air_time.head(5)"
   ]
  },
  {
   "cell_type": "code",
   "execution_count": null,
   "metadata": {},
   "outputs": [],
   "source": []
  },
  {
   "cell_type": "markdown",
   "metadata": {},
   "source": [
    "## Data Visualization\n",
    "\n",
    "In this section will will used visual to assess key insights te data provides, asking some questions and using plots of different types to provide answers."
   ]
  },
  {
   "cell_type": "markdown",
   "metadata": {},
   "source": [
    "#### First we do an overview in terms of numbers.\n",
    "\n",
    "\n",
    "- Number of flight that departed and arrival each airport\n",
    "- Number of departures for each airport\n",
    "- Monthly count of flight\n",
    "- arrival delay and on-time arrival\n",
    "- departure and ontime departures\n",
    "- How many flight weresuccessful and cancelled flight"
   ]
  },
  {
   "cell_type": "code",
   "execution_count": null,
   "metadata": {},
   "outputs": [],
   "source": [
    "a= len(air_time)\n",
    "b = len(air_time[air_time['CANCELLED']==1])\n",
    "c = len(air_time[air_time['CANCELLED']!=1])\n",
    "\n",
    "print('We have {} flights in total, {} cancelled and {} successful'.format(a,b,c))"
   ]
  },
  {
   "cell_type": "markdown",
   "metadata": {},
   "source": [
    "How is the flight activity in term of departure in each airport?"
   ]
  },
  {
   "cell_type": "code",
   "execution_count": null,
   "metadata": {
    "scrolled": true
   },
   "outputs": [],
   "source": [
    "air_time[air_time['CANCELLED']!=1.0]['ORIGIN'].value_counts().nlargest(20).plot.bar(figsize=(10,5))\n",
    "air_time[air_time['CANCELLED']!=1.0]['DEST'].value_counts().nlargest(20).plot.bar(figsize=(10,5))\n",
    "plt.ylabel('Departue_count')\n",
    "plt.xlabel('Airport')"
   ]
  },
  {
   "cell_type": "markdown",
   "metadata": {},
   "source": [
    "Of all the airport captured ATL has the highest departure flight numbers, close to 400000 flights for 2019 followed by ORD (~350000) and DFW (~300000). This confirms the position of ATL has the buisest airport for several years in USA."
   ]
  },
  {
   "cell_type": "code",
   "execution_count": null,
   "metadata": {
    "scrolled": true
   },
   "outputs": [],
   "source": [
    "air_time[air_time['CANCELLED']!=1.0]['ORIGIN'].value_counts().nsmallest(20).plot.bar(figsize=(10,5))\n",
    "plt.ylabel('Departue_count')\n",
    "plt.xlabel('Airport')"
   ]
  },
  {
   "cell_type": "markdown",
   "metadata": {},
   "source": [
    "AKN is the least busy airport in terms of flight departures with just about 60 flights followed by PGV DLG."
   ]
  },
  {
   "cell_type": "code",
   "execution_count": null,
   "metadata": {
    "scrolled": true
   },
   "outputs": [],
   "source": [
    "air_time[air_time['CANCELLED']!=1.0]['DEST'].value_counts().nlargest(20).plot.bar(figsize=(10,5))\n",
    "plt.ylabel('Arrival_counts')\n",
    "plt.xlabel('Airport')"
   ]
  },
  {
   "cell_type": "markdown",
   "metadata": {},
   "source": [
    "Of all the airport captured ATL has the highest arrival flight numbers, close to 400000 flights for 2019 followed by ORD (~350000) and DFW (~300000). This confirms the position of ATL has the buisest airport for several years in USA."
   ]
  },
  {
   "cell_type": "code",
   "execution_count": null,
   "metadata": {
    "scrolled": true
   },
   "outputs": [],
   "source": [
    "air_time[air_time['CANCELLED']!=1.0]['DEST'].value_counts().nsmallest(20).plot.bar(figsize=(10,5))\n",
    "plt.ylabel('Arrival_counts',fontsize=18)\n",
    "plt.xlabel('Airport',fontsize=18)"
   ]
  },
  {
   "cell_type": "markdown",
   "metadata": {},
   "source": [
    "AKN is the least busy airport in terms of flight arrivals with just about 60 flights followed by PGV DLG."
   ]
  },
  {
   "cell_type": "markdown",
   "metadata": {},
   "source": [
    "When we combine both arrival ad departure for each airport it looks like a 50:50 ratio, which might most likely be because most of the trips are round trips."
   ]
  },
  {
   "cell_type": "code",
   "execution_count": null,
   "metadata": {},
   "outputs": [],
   "source": [
    "air_time['DAY'].value_counts(sort=True)"
   ]
  },
  {
   "cell_type": "code",
   "execution_count": null,
   "metadata": {
    "scrolled": true
   },
   "outputs": [],
   "source": [
    "air_time[air_time['CANCELLED']!=1.0]['DAY'].value_counts(sort=True).plot.bar(figsize=(8,8),fontsize=12)\n",
    "plt.ylabels('Counts')"
   ]
  },
  {
   "cell_type": "code",
   "execution_count": null,
   "metadata": {},
   "outputs": [],
   "source": [
    "air_time[air_time['CANCELLED']!=1.0]['DAY'].value_counts(sort=True).plot.pie(figsize=(8,8),autopct='%1.2f', textprops={'fontsize': 14})"
   ]
  },
  {
   "cell_type": "markdown",
   "metadata": {},
   "source": [
    "Friday and Monday accounted for most travel.  This is closely followed by Tues, wed and Sun which show activity level close to Friday and Monday. The high activity on friday and Monday would mostly be from those heading for or coming back from weekend holiday trips in other cities, states or countries."
   ]
  },
  {
   "cell_type": "markdown",
   "metadata": {},
   "source": [
    "What percentage of the scheduled flights were Cancelled?"
   ]
  },
  {
   "cell_type": "code",
   "execution_count": null,
   "metadata": {},
   "outputs": [],
   "source": [
    "air_time[\"FLIGHT STATUS\"] = air_time['CANCELLED'].replace([1,0],['Cancelled','Not Cancelled'])\n"
   ]
  },
  {
   "cell_type": "code",
   "execution_count": null,
   "metadata": {
    "scrolled": false
   },
   "outputs": [],
   "source": [
    "plt.figure(figsize=(8,8))\n",
    "plt.pie(air_time['CANCELLED'].value_counts(),autopct='%1.2f%%',labels=['Not Cancelled','Cancelled'],explode=[0.2,0.1],textprops={'fontsize': 14})\n",
    "plt.legend(fontsize=12,loc=(0.5,1))"
   ]
  },
  {
   "cell_type": "code",
   "execution_count": null,
   "metadata": {
    "scrolled": true
   },
   "outputs": [],
   "source": [
    "plt.figure(figsize=(10,5))\n",
    "plt.bar(air_time[air_time['CANCELLED']!=1].groupby(['DAY'])['CANCELLED'].count().index,air_time[air_time['CANCELLED']!=1].groupby(['DAY'])['CANCELLED'].count(),label='Completed Flights')\n",
    "plt.bar(air_time[air_time['CANCELLED']==1].groupby(['DAY'])['CANCELLED'].count().index,air_time[air_time['CANCELLED']==1].groupby(['DAY'])['CANCELLED'].count(),bottom=air_time[air_time['CANCELLED']!=1].groupby(['DAY'])['CANCELLED'].count(),label='Cancelled')\n",
    "plt.legend(loc=(1,0.5))"
   ]
  },
  {
   "cell_type": "markdown",
   "metadata": {},
   "source": [
    "Over 98% of the scheduled flight were completed, while 1.82% were cancelled."
   ]
  },
  {
   "cell_type": "markdown",
   "metadata": {},
   "source": [
    "Which airports recorded the highest number of arrival and departure delays delay?"
   ]
  },
  {
   "cell_type": "code",
   "execution_count": null,
   "metadata": {
    "scrolled": false
   },
   "outputs": [],
   "source": [
    "air_time[air_time['DEP_DELAY_NEW']>0].groupby('ORIGIN')[['DEP_DELAY_NEW']].count().nlargest(20,'DEP_DELAY_NEW').plot.bar(figsize=(10,5))"
   ]
  },
  {
   "cell_type": "code",
   "execution_count": null,
   "metadata": {
    "scrolled": false
   },
   "outputs": [],
   "source": [
    "air_time[air_time['ARR_DELAY_NEW']>0].groupby('DEST')[['ARR_DELAY_NEW']].count().nlargest(20,'ARR_DELAY_NEW').plot.bar(figsize=(10,5))"
   ]
  },
  {
   "cell_type": "markdown",
   "metadata": {},
   "source": [
    "ORD accounts for most departure and arrival delays. \n",
    "Although ATL had the highest amount of activity in term or arrival and departures, but far lower delays compared to ORD. This might be due to a better efficiency in operation compared to ORD"
   ]
  },
  {
   "cell_type": "markdown",
   "metadata": {},
   "source": [
    "##### Looking at Airline how airline faired closely."
   ]
  },
  {
   "cell_type": "markdown",
   "metadata": {},
   "source": [
    "What is the stake of each airline in the aviation sector in 2019"
   ]
  },
  {
   "cell_type": "code",
   "execution_count": null,
   "metadata": {
    "scrolled": true
   },
   "outputs": [],
   "source": [
    "plt.figure(figsize=(8,8))\n",
    "air_time[air_time['CANCELLED']!=1.0]['OP_UNIQUE_CARRIER'].value_counts().plot.pie(autopct='%1.2f', fontsize=12)"
   ]
  },
  {
   "cell_type": "markdown",
   "metadata": {},
   "source": [
    "WN recorded the most activity in terms of flight activity in 2019. This is followed by DL, AA and 00. The least activity was recorded by HA."
   ]
  },
  {
   "cell_type": "code",
   "execution_count": null,
   "metadata": {},
   "outputs": [],
   "source": [
    "plt.rcParams.update({'axes.labelsize': 16.0,'font.size': 14.0})"
   ]
  },
  {
   "cell_type": "code",
   "execution_count": null,
   "metadata": {},
   "outputs": [],
   "source": [
    "air_time[air_time['CANCELLED']==1].groupby('OP_UNIQUE_CARRIER',as_index=False)['CANCELLED'].count().sort_values(['OP_UNIQUE_CARRIER'])"
   ]
  },
  {
   "cell_type": "markdown",
   "metadata": {},
   "source": [
    "Which airline covered the most distance and the most airtime"
   ]
  },
  {
   "cell_type": "code",
   "execution_count": null,
   "metadata": {
    "scrolled": true
   },
   "outputs": [],
   "source": [
    "zz=air_time[air_time['CANCELLED']!=1.0].groupby('OP_UNIQUE_CARRIER',as_index=False,sort=True)['DISTANCE','AIR_TIME'].sum()"
   ]
  },
  {
   "cell_type": "code",
   "execution_count": null,
   "metadata": {
    "scrolled": true
   },
   "outputs": [],
   "source": [
    "plt.figure(figsize=(10,5))\n",
    "plt.bar(zz['OP_UNIQUE_CARRIER'],zz['DISTANCE'])"
   ]
  },
  {
   "cell_type": "code",
   "execution_count": null,
   "metadata": {},
   "outputs": [],
   "source": [
    "plt.figure(figsize=(10,5))\n",
    "plt.bar(zz['OP_UNIQUE_CARRIER'],zz['AIR_TIME'])"
   ]
  },
  {
   "cell_type": "markdown",
   "metadata": {},
   "source": [
    "WN has the largest mileage and airtime. this is followed by AA, DL and UA. Airtime and distance covered show very similar trend"
   ]
  },
  {
   "cell_type": "markdown",
   "metadata": {},
   "source": [
    "How does cancelled flight compare to successful flights?"
   ]
  },
  {
   "cell_type": "code",
   "execution_count": null,
   "metadata": {
    "scrolled": true
   },
   "outputs": [],
   "source": [
    "plt.figure(figsize=(10,10))\n",
    "plt.bar(air_time[air_time['CANCELLED']!=1].groupby(['OP_UNIQUE_CARRIER'])['CANCELLED'].count().index,air_time[air_time['CANCELLED']!=1].groupby(['OP_UNIQUE_CARRIER'])['CANCELLED'].count(),label='Completed Flights')\n",
    "plt.bar(air_time[air_time['CANCELLED']==1].groupby(['OP_UNIQUE_CARRIER'])['CANCELLED'].count().index,air_time[air_time['CANCELLED']==1].groupby(['OP_UNIQUE_CARRIER'])['CANCELLED'].count(),bottom=air_time[air_time['CANCELLED']!=1].groupby(['OP_UNIQUE_CARRIER'])['CANCELLED'].count(),label='Cancelled')\n",
    "plt.legend()"
   ]
  },
  {
   "cell_type": "markdown",
   "metadata": {},
   "source": [
    "For almost all airline over 98% of the scheduled airlines were completed. Of all the top airline, DL had the least number of cancellec flights. This might due to better organization at ATL the hub it operates from."
   ]
  },
  {
   "cell_type": "code",
   "execution_count": null,
   "metadata": {
    "scrolled": false
   },
   "outputs": [],
   "source": [
    "air_time['CANCELLATION_CODE'].value_counts()"
   ]
  },
  {
   "cell_type": "markdown",
   "metadata": {},
   "source": [
    "What is the major source of cancellation"
   ]
  },
  {
   "cell_type": "code",
   "execution_count": null,
   "metadata": {
    "scrolled": true
   },
   "outputs": [],
   "source": [
    "plt.bar(air_time['CANCELLATION_CODE'].value_counts().index,air_time['CANCELLATION_CODE'].value_counts())"
   ]
  },
  {
   "cell_type": "markdown",
   "metadata": {},
   "source": [
    "A-Carrier, B- Weather, C- National Air System, D- Security"
   ]
  },
  {
   "cell_type": "markdown",
   "metadata": {},
   "source": [
    "Most cancellation were as a result of weather issues which are natural and instruments available can guarantee smooth flying. This is followed by Carrier issues which are mostly associated with extreme cases where airlines not been able to meet up for scheduled flights even when they are delayed."
   ]
  },
  {
   "cell_type": "markdown",
   "metadata": {},
   "source": [
    "Having looked at causes of cancellation, what could be the reason for flight delays "
   ]
  },
  {
   "cell_type": "code",
   "execution_count": null,
   "metadata": {},
   "outputs": [],
   "source": [
    "air_time"
   ]
  },
  {
   "cell_type": "code",
   "execution_count": null,
   "metadata": {},
   "outputs": [],
   "source": [
    "plt.figure(figsize=(12,5))\n",
    "air_time.loc[:,['CARRIER_DELAY', 'WEATHER_DELAY', 'NAS_DELAY',\n",
    "       'SECURITY_DELAY', 'LATE_AIRCRAFT_DELAY']].sum().plot.bar()\n",
    "plt.ylabel(\"Delay,in mins\")"
   ]
  },
  {
   "cell_type": "code",
   "execution_count": null,
   "metadata": {
    "scrolled": true
   },
   "outputs": [],
   "source": [
    "plt.figure(figsize=(10,10))\n",
    "air_time.loc[:,['CARRIER_DELAY', 'WEATHER_DELAY', 'NAS_DELAY',\n",
    "       'SECURITY_DELAY', 'LATE_AIRCRAFT_DELAY']].sum().plot.pie(autopct='%1.1f%%',explode=(0.1,0.1,0.1,0.1,0.1),textprops={'fontsize':15})\n"
   ]
  },
  {
   "cell_type": "code",
   "execution_count": null,
   "metadata": {},
   "outputs": [],
   "source": [
    "plt.figure(figsize=(8,8))\n",
    "air_time.loc[:,['CARRIER_DELAY', 'WEATHER_DELAY', 'NAS_DELAY',\n",
    "       'SECURITY_DELAY', 'LATE_AIRCRAFT_DELAY']].count(numeric_only=True).plot.bar()\n",
    "\n",
    "plt.ylabel(\"Delay count\")"
   ]
  },
  {
   "cell_type": "code",
   "execution_count": null,
   "metadata": {
    "scrolled": true
   },
   "outputs": [],
   "source": [
    "plt.figure(figsize=(7,7))\n",
    "air_time.loc[:,['CARRIER_DELAY', 'WEATHER_DELAY', 'NAS_DELAY',\n",
    "       'SECURITY_DELAY', 'LATE_AIRCRAFT_DELAY']].count(numeric_only=True).plot.pie(autopct='%1.1f%%',explode=(0.1,0.1,0.1,0.1,0.1),textprops={'fontsize':12})\n",
    "\n",
    "plt.legend(loc=(0.8,1))"
   ]
  },
  {
   "cell_type": "markdown",
   "metadata": {},
   "source": [
    "National Aviation System (NAS) account for most delays amd it associated with several condition which include non-extreme weather conditions, airport operations, heavy traffic volume, and air traffic control.\n",
    "\n",
    "NAS delay is closely followed by Flight delays associated with Late Aircraft which also account the longest delay time \n",
    "\n",
    "Since most flights operate round trips a delay for any other reason will affect subsequent departure or arrival of the flight givig rise to late aircraft delays. Ignoring late aircraft delay issues since it is dependent mostly on other delays, Carrier delays would have have actually account for the longest delays. Improving efficiency in airline operations would actually reduce late aircraft delays time.\n",
    "\n",
    "If daily schedules are also maintained by airline, NAS delay count will most likely be reduced to minimal.\n",
    "\n",
    "Weather had a minimal contribution to delays compared to cancellations. Meaning weather issues lead to outright cancellation outright cancellation of flights.\n",
    "\n",
    "This would be an interest area for further investigation."
   ]
  },
  {
   "cell_type": "code",
   "execution_count": null,
   "metadata": {
    "scrolled": true
   },
   "outputs": [],
   "source": [
    "yy=air_time[air_time['CANCELLED']!=1.0].groupby(['OP_UNIQUE_CARRIER'],as_index=False)[['CARRIER_DELAY', 'WEATHER_DELAY', 'NAS_DELAY',\n",
    "       'SECURITY_DELAY', 'LATE_AIRCRAFT_DELAY']].count()\n",
    "yy.tail()"
   ]
  },
  {
   "cell_type": "code",
   "execution_count": null,
   "metadata": {},
   "outputs": [],
   "source": [
    "yy.sum()"
   ]
  },
  {
   "cell_type": "code",
   "execution_count": null,
   "metadata": {},
   "outputs": [],
   "source": [
    "yz=air_time[air_time['CANCELLED']!=1.0].groupby(['OP_UNIQUE_CARRIER'],as_index=False)[['CARRIER_DELAY', 'WEATHER_DELAY', 'NAS_DELAY',\n",
    "       'SECURITY_DELAY', 'LATE_AIRCRAFT_DELAY']].sum()\n",
    "yz.tail()"
   ]
  },
  {
   "cell_type": "code",
   "execution_count": null,
   "metadata": {},
   "outputs": [],
   "source": [
    "yy.mean()"
   ]
  },
  {
   "cell_type": "markdown",
   "metadata": {},
   "source": [
    "How do the airline fair in terms of delays?"
   ]
  },
  {
   "cell_type": "code",
   "execution_count": null,
   "metadata": {
    "scrolled": true
   },
   "outputs": [],
   "source": [
    "\n",
    "fig,ax=plt.subplots(figsize=(10,10))\n",
    "\n",
    "plt.barh(yy['OP_UNIQUE_CARRIER'],yy['CARRIER_DELAY'],label='CARRIER_DELAY',linewidth=0)\n",
    "plt.barh(yy['OP_UNIQUE_CARRIER'],yy['WEATHER_DELAY'],left=list(np.sum(yy.iloc[:,1:2],axis=1)),label='WEATHER_DELAY',linewidth=0)\n",
    "plt.barh(yy['OP_UNIQUE_CARRIER'],yy['NAS_DELAY'],left=list(np.sum(yy.iloc[:,1:3],axis=1)),label='NAS_DELAY',linewidth=0)\n",
    "plt.barh(yy['OP_UNIQUE_CARRIER'],yy['SECURITY_DELAY'],left=list(np.sum(yy.iloc[:,1:4],axis=1)),label='SECURITY_DELAY',linewidth=0)\n",
    "plt.barh(yy['OP_UNIQUE_CARRIER'],yy['LATE_AIRCRAFT_DELAY'],left=list(np.sum(yy.iloc[:,1:5],axis=1)),label='LATE_AIRCRAFT_DELAY',linewidth=0)\n",
    "\n",
    "plt.legend()\n",
    "plt.xlabel('Delay Count')"
   ]
  },
  {
   "cell_type": "markdown",
   "metadata": {},
   "source": [
    "WN has the most number of delays(as also seen earlier it is also very well known to have the higest amount of cancellations). Although, DL is the second most active airline, it has delays number lower than AA which has a lower activity compared to DL.\n",
    "\n",
    "In most cases, the count due to carrier delays mirror delays due to late arrival. Support the facts that most flights make round trips and a delay delay will affect subsequent schedules."
   ]
  },
  {
   "cell_type": "code",
   "execution_count": null,
   "metadata": {
    "scrolled": true
   },
   "outputs": [],
   "source": [
    "fig,ax=plt.subplots(figsize=(10,10))\n",
    "\n",
    "plt.barh(yz['OP_UNIQUE_CARRIER'],yz['CARRIER_DELAY'],label='CARRIER_DELAY',linewidth=0)\n",
    "plt.barh(yz['OP_UNIQUE_CARRIER'],yz['WEATHER_DELAY'],left=list(np.sum(yz.iloc[:,1:2],axis=1)),label='WEATHER_DELAY',linewidth=0)\n",
    "plt.barh(yz['OP_UNIQUE_CARRIER'],yz['NAS_DELAY'],left=list(np.sum(yz.iloc[:,1:3],axis=1)),label='NAS_DELAY',linewidth=0)\n",
    "plt.barh(yz['OP_UNIQUE_CARRIER'],yz['SECURITY_DELAY'],left=list(np.sum(yz.iloc[:,1:4],axis=1)),label='SECURITY_DELAY',linewidth=0)\n",
    "plt.barh(yz['OP_UNIQUE_CARRIER'],yz['LATE_AIRCRAFT_DELAY'],left=list(np.sum(yz.iloc[:,1:5],axis=1)),label='LATE_AIRCRAFT_DELAY',linewidth=0)\n",
    "\n",
    "\n",
    "\n",
    "plt.legend()\n",
    "plt.xlabel('Delay time, Mins')"
   ]
  },
  {
   "cell_type": "markdown",
   "metadata": {},
   "source": [
    "OO had the longest delays associated majorly with late aircraft and carrier delayS, although it has lower activity compared to WN and DL. Of the top five airlines in terms of activity, DL has the least delay time. This might due to airline and Hub (ATL) operation efficiency. "
   ]
  },
  {
   "cell_type": "code",
   "execution_count": null,
   "metadata": {
    "scrolled": true
   },
   "outputs": [],
   "source": [
    "plt.figure(figsize=(10,5))\n",
    "plt.bar(air_time[air_time['DEP_DELAY_NEW']==0].groupby(['OP_UNIQUE_CARRIER'])['DEP_DELAY_NEW'].count().index,air_time[air_time['DEP_DELAY_NEW']==0].groupby(['OP_UNIQUE_CARRIER'])['DEP_DELAY_NEW'].count(),label='On Time Departure')\n",
    "plt.bar(air_time[air_time['DEP_DELAY_NEW']>0].groupby(['OP_UNIQUE_CARRIER'])['DEP_DELAY_NEW'].count().index,air_time[air_time['DEP_DELAY_NEW']>0].groupby(['OP_UNIQUE_CARRIER'])['DEP_DELAY_NEW'].count(),bottom=air_time[air_time['DEP_DELAY_NEW']==0].groupby(['OP_UNIQUE_CARRIER'])['DEP_DELAY_NEW'].count(),label='Delayed Departure')\n",
    "plt.legend()"
   ]
  },
  {
   "cell_type": "code",
   "execution_count": null,
   "metadata": {
    "scrolled": true
   },
   "outputs": [],
   "source": [
    "plt.figure(figsize=(10,5))\n",
    "plt.bar(air_time[air_time['ARR_DELAY_NEW']==0].groupby(['OP_UNIQUE_CARRIER'])['ARR_DELAY_NEW'].count().index,air_time[air_time['ARR_DELAY_NEW']==0].groupby(['OP_UNIQUE_CARRIER'])['ARR_DELAY_NEW'].count(),label='On Time Arrival')\n",
    "plt.bar(air_time[air_time['ARR_DELAY_NEW']>0].groupby(['OP_UNIQUE_CARRIER'])['ARR_DELAY_NEW'].count().index,air_time[air_time['ARR_DELAY_NEW']>0].groupby(['OP_UNIQUE_CARRIER'])['ARR_DELAY_NEW'].count(),bottom=air_time[air_time['ARR_DELAY_NEW']==0].groupby(['OP_UNIQUE_CARRIER'])['ARR_DELAY_NEW'].count(),label='Delayed Departure')\n",
    "plt.legend()"
   ]
  },
  {
   "cell_type": "code",
   "execution_count": null,
   "metadata": {},
   "outputs": [],
   "source": [
    "xx=air_time.groupby('MONTH',as_index=False)[['CARRIER_DELAY', 'WEATHER_DELAY', 'NAS_DELAY',\n",
    "       'SECURITY_DELAY', 'LATE_AIRCRAFT_DELAY']].count()"
   ]
  },
  {
   "cell_type": "code",
   "execution_count": null,
   "metadata": {
    "scrolled": true
   },
   "outputs": [],
   "source": [
    "fig,ax=plt.subplots(figsize=(10,10))\n",
    "\n",
    "plt.barh(xx['MONTH'],xx['CARRIER_DELAY'],label='CARRIER_DELAY',linewidth=0)\n",
    "plt.barh(xx['MONTH'],xx['WEATHER_DELAY'],left=list(np.sum(xx.iloc[:,1:2],axis=1)),label='WEATHER_DELAY',linewidth=0)\n",
    "plt.barh(xx['MONTH'],xx['NAS_DELAY'],left=list(np.sum(xx.iloc[:,1:3],axis=1)),label='NAS_DELAY',linewidth=0)\n",
    "plt.barh(xx['MONTH'],xx['SECURITY_DELAY'],left=list(np.sum(xx.iloc[:,1:4],axis=1)),label='SECURITY_DELAY',linewidth=0)\n",
    "plt.barh(xx['MONTH'],xx['LATE_AIRCRAFT_DELAY'],left=list(np.sum(xx.iloc[:,1:5],axis=1)),label='LATE_AIRCRAFT_DELAY',linewidth=0)\n",
    "\n",
    "\n",
    "\n",
    "plt.legend()\n",
    "\n"
   ]
  },
  {
   "cell_type": "code",
   "execution_count": null,
   "metadata": {
    "scrolled": false
   },
   "outputs": [],
   "source": [
    "plt.scatter(x=air_time['DISTANCE'],y=air_time['AIR_TIME'])"
   ]
  },
  {
   "cell_type": "code",
   "execution_count": null,
   "metadata": {
    "scrolled": true
   },
   "outputs": [],
   "source": [
    "air_time[air_time['OP_UNIQUE_CARRIER']=='DL']['ORIGIN'].value_counts().nlargest(5)"
   ]
  },
  {
   "cell_type": "code",
   "execution_count": null,
   "metadata": {
    "scrolled": false
   },
   "outputs": [],
   "source": [
    "air_time[air_time['OP_UNIQUE_CARRIER']=='WN']['ORIGIN'].value_counts().nlargest(5)"
   ]
  },
  {
   "cell_type": "markdown",
   "metadata": {},
   "source": [
    "air_time.to_csv('air_time1.csv')"
   ]
  },
  {
   "cell_type": "code",
   "execution_count": null,
   "metadata": {},
   "outputs": [],
   "source": []
  },
  {
   "cell_type": "code",
   "execution_count": null,
   "metadata": {},
   "outputs": [],
   "source": [
    "air_time.groupby('OP_UNIQUE_CARRIER')['CANCELLATION_CODE','OP_UNIQUE_CARRIER'].count()"
   ]
  }
 ],
 "metadata": {
  "kernelspec": {
   "display_name": "Python 3",
   "language": "python",
   "name": "python3"
  },
  "language_info": {
   "codemirror_mode": {
    "name": "ipython",
    "version": 3
   },
   "file_extension": ".py",
   "mimetype": "text/x-python",
   "name": "python",
   "nbconvert_exporter": "python",
   "pygments_lexer": "ipython3",
   "version": "3.7.3"
  }
 },
 "nbformat": 4,
 "nbformat_minor": 2
}
